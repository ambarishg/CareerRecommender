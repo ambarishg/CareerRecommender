{
 "cells": [
  {
   "cell_type": "code",
   "execution_count": 1,
   "metadata": {},
   "outputs": [
    {
     "name": "stderr",
     "output_type": "stream",
     "text": [
      "C:\\Applications\\Anaconda\\lib\\site-packages\\paramiko\\transport.py:219: CryptographyDeprecationWarning: Blowfish has been deprecated\n",
      "  \"class\": algorithms.Blowfish,\n"
     ]
    }
   ],
   "source": [
    "import azureml.core"
   ]
  },
  {
   "cell_type": "code",
   "execution_count": 2,
   "metadata": {},
   "outputs": [
    {
     "name": "stdout",
     "output_type": "stream",
     "text": [
      "1.48.0\n"
     ]
    }
   ],
   "source": [
    "print(azureml.core.VERSION)"
   ]
  },
  {
   "cell_type": "markdown",
   "metadata": {},
   "source": [
    "# Create Workspace"
   ]
  },
  {
   "cell_type": "code",
   "execution_count": 3,
   "metadata": {},
   "outputs": [
    {
     "name": "stdout",
     "output_type": "stream",
     "text": [
      "Performing interactive authentication. Please follow the instructions on the terminal.\n"
     ]
    },
    {
     "name": "stderr",
     "output_type": "stream",
     "text": [
      "The default web browser has been opened at https://login.microsoftonline.com/0f942ca0-ebef-4f26-80f8-f501d599ba90/oauth2/v2.0/authorize. Please continue the login in the web browser. If no web browser is available or if the web browser fails to open, use device code flow with `az login --use-device-code`.\n"
     ]
    },
    {
     "name": "stdout",
     "output_type": "stream",
     "text": [
      "Interactive authentication successfully completed.\n",
      "Deploying KeyVault with name azuremlwkeyvault7e3455e2.\n",
      "Deploying AppInsights with name azuremlwinsights78339da5.\n",
      "Deployed AppInsights with name azuremlwinsights78339da5. Took 9.25 seconds.\n",
      "Deploying StorageAccount with name azuremlwstorage46f5e1ec4.\n",
      "Deployed KeyVault with name azuremlwkeyvault7e3455e2. Took 19.0 seconds.\n",
      "Deployed StorageAccount with name azuremlwstorage46f5e1ec4. Took 24.64 seconds.\n",
      "Deploying Workspace with name azureml_workspace.\n",
      "Deployed Workspace with name azureml_workspace. Took 43.25 seconds.\n"
     ]
    }
   ],
   "source": [
    "from azureml.core import Workspace\n",
    "from azureml.core.authentication import InteractiveLoginAuthentication\n",
    "\n",
    "sid = '6ea869be-bab3-4204-94c3-1fc677f7d2de'\n",
    "tenant_id = '0f942ca0-ebef-4f26-80f8-f501d599ba90'\n",
    "\n",
    "forced_interactive_auth = InteractiveLoginAuthentication(tenant_id=tenant_id, force=True)\n",
    "\n",
    "ws = Workspace.create(name='azureml_workspace',\n",
    "            subscription_id= sid, \n",
    "            resource_group='recogroup',\n",
    "            create_resource_group = True,\n",
    "            location='centralus'\n",
    "            )"
   ]
  },
  {
   "cell_type": "markdown",
   "metadata": {},
   "source": [
    "# Upload to Default Data Store"
   ]
  },
  {
   "cell_type": "code",
   "execution_count": 5,
   "metadata": {},
   "outputs": [
    {
     "name": "stdout",
     "output_type": "stream",
     "text": [
      "Uploading an estimated of 3 files\n",
      "Uploading ./recodata\\professionals.csv\n",
      "Uploaded ./recodata\\professionals.csv, 1 files out of an estimated total of 3\n",
      "Uploading ./recodata\\questions.csv\n",
      "Uploaded ./recodata\\questions.csv, 2 files out of an estimated total of 3\n",
      "Uploading ./recodata\\answers.csv\n",
      "Uploaded ./recodata\\answers.csv, 3 files out of an estimated total of 3\n",
      "Uploaded 3 files\n",
      "Done\n"
     ]
    }
   ],
   "source": [
    "#upload data by using get_default_datastore()\n",
    "ds = ws.get_default_datastore()\n",
    "ds.upload(src_dir='./recodata', target_path='recodata', overwrite=True, show_progress=True)\n",
    "\n",
    "print('Done')"
   ]
  },
  {
   "cell_type": "markdown",
   "metadata": {},
   "source": [
    "# Create the Training Folder"
   ]
  },
  {
   "cell_type": "code",
   "execution_count": 6,
   "metadata": {},
   "outputs": [
    {
     "name": "stdout",
     "output_type": "stream",
     "text": [
      "Done\n"
     ]
    }
   ],
   "source": [
    "import os\n",
    "\n",
    "# create the folder\n",
    "folder_training_script = './recocode'\n",
    "os.makedirs(folder_training_script, exist_ok=True)\n",
    "\n",
    "print('Done')"
   ]
  },
  {
   "cell_type": "markdown",
   "metadata": {},
   "source": [
    "# Create the Compute Cluster"
   ]
  },
  {
   "cell_type": "code",
   "execution_count": 7,
   "metadata": {},
   "outputs": [
    {
     "name": "stdout",
     "output_type": "stream",
     "text": [
      "Compute target created\n"
     ]
    }
   ],
   "source": [
    "from azureml.core.compute import AmlCompute\n",
    "from azureml.core.compute import ComputeTarget\n",
    "import os\n",
    "\n",
    "# Step 1: name the cluster and set the minimal and maximal number of nodes \n",
    "compute_name = os.environ.get(\"AML_COMPUTE_CLUSTER_NAME\", \"cpucluster\")\n",
    "min_nodes = os.environ.get(\"AML_COMPUTE_CLUSTER_MIN_NODES\", 0)\n",
    "max_nodes = os.environ.get(\"AML_COMPUTE_CLUSTER_MAX_NODES\", 1)\n",
    "\n",
    "# Step 2: choose environment variables \n",
    "vm_size = os.environ.get(\"AML_COMPUTE_CLUSTER_SKU\", \"STANDARD_D2_V2\")\n",
    "\n",
    "provisioning_config = AmlCompute.provisioning_configuration(\n",
    "    vm_size = vm_size, min_nodes = min_nodes, max_nodes = max_nodes)\n",
    "\n",
    "# create the cluster\n",
    "compute_target = ComputeTarget.create(ws, compute_name, provisioning_config)\n",
    "\n",
    "print('Compute target created')"
   ]
  },
  {
   "cell_type": "markdown",
   "metadata": {},
   "source": [
    "# Create the Training Script"
   ]
  },
  {
   "cell_type": "code",
   "execution_count": 8,
   "metadata": {},
   "outputs": [
    {
     "name": "stdout",
     "output_type": "stream",
     "text": [
      "Writing ./recocode/train.py\n"
     ]
    }
   ],
   "source": [
    "%%writefile $folder_training_script/train.py\n",
    "\n",
    "import argparse\n",
    "import os\n",
    "import numpy as np\n",
    "import pandas as pd\n",
    "import glob\n",
    "import gc\n",
    "import re\n",
    "from sklearn.feature_extraction.text import TfidfVectorizer\n",
    "from sklearn.metrics.pairwise import cosine_similarity\n",
    "import string\n",
    "import pickle\n",
    "\n",
    "from azureml.core import Run\n",
    "# from utils import load_data\n",
    "\n",
    "parser = argparse.ArgumentParser()\n",
    "parser.add_argument('--data-folder', type=str, dest='data_folder', help='data folder mounting point')\n",
    "args = parser.parse_args()\n",
    "\n",
    "def clean_text(text):\n",
    "    '''Make text lowercase,remove punctuation\n",
    "    .'''\n",
    "    text = str(text).lower()\n",
    "    text = re.sub('[%s]' % re.escape(string.punctuation), '', text)\n",
    "    text = re.sub('\\n', '', text)\n",
    "    return text\n",
    "\n",
    "\n",
    "data_folder = os.path.join(args.data_folder, 'recodata')\n",
    "print('Data folder:', data_folder)\n",
    "\n",
    "questions  = pd.read_csv(os.path.join(data_folder, 'questions.csv'))\n",
    "professionals = pd.read_csv(os.path.join(data_folder, 'professionals.csv'))\n",
    "answers = pd.read_csv(os.path.join(data_folder, 'answers.csv'))\n",
    "\n",
    "prof_ans_q = questions[(~questions[\"questions_title\"].isna()) | (~questions[\"questions_body\"].isna()) ]\n",
    "\n",
    "q = prof_ans_q[\"questions_title\"] + \" \" + prof_ans_q[\"questions_body\"]\n",
    "q  = q.apply(lambda x:clean_text(x))\n",
    "\n",
    "N_FEATURES = 2000\n",
    "MAX_DF     = 0.95\n",
    "MIN_DF     = 2\n",
    "LANGUAGE   = 'english'\n",
    "\n",
    "tfidf_vectorizer = TfidfVectorizer(max_df=MAX_DF, \n",
    "                                   min_df=MIN_DF,\n",
    "                                   stop_words=LANGUAGE)\n",
    "\n",
    "q = q.dropna()\n",
    "tfidf_vectorizer.fit(q)\n",
    "q_tfidf = tfidf_vectorizer.transform((q))\n",
    "\n",
    "# Get the experiment run context\n",
    "run = Run.get_context()\n",
    "\n",
    "run.log('MAX_DF', np.float(MAX_DF))\n",
    "run.log('MIN_DF', np.float(MIN_DF))\n",
    "run.log('N_FEATURES', np.float(N_FEATURES))\n",
    "\n",
    "\n",
    "pickle.dump(tfidf_vectorizer,open('outputs/tfidf_vectorizer.pkl',\"wb\"))\n",
    "pickle.dump(q_tfidf,open(\"outputs/q_tfidf.pkl\",\"wb\"))\n",
    "\n",
    "\n",
    "run.complete()"
   ]
  },
  {
   "cell_type": "markdown",
   "metadata": {},
   "source": [
    "# Create the Environment"
   ]
  },
  {
   "cell_type": "code",
   "execution_count": 9,
   "metadata": {},
   "outputs": [
    {
     "name": "stderr",
     "output_type": "stream",
     "text": [
      "'enabled' is deprecated. Please use the azureml.core.runconfig.DockerConfiguration object with the 'use_docker' param instead.\n"
     ]
    },
    {
     "name": "stdout",
     "output_type": "stream",
     "text": [
      "reco-env defined.\n"
     ]
    }
   ],
   "source": [
    "from azureml.core import Environment\n",
    "from azureml.core.conda_dependencies import CondaDependencies\n",
    "\n",
    "# Create a Python environment for the experiment\n",
    "wine_env = Environment(\"reco-env\")\n",
    "wine_env.python.user_managed_dependencies = False # Let Azure ML manage dependencies\n",
    "wine_env.docker.enabled = False # Use a docker container\n",
    "\n",
    "# Create a set of package dependencies (conda or pip as required)\n",
    "wine_packages = CondaDependencies.create(conda_packages=['scikit-learn','pandas'])\n",
    "\n",
    "# Add the dependencies to the environment\n",
    "wine_env.python.conda_dependencies = wine_packages\n",
    "\n",
    "print(wine_env.name, 'defined.')"
   ]
  },
  {
   "cell_type": "markdown",
   "metadata": {},
   "source": [
    "# Register the environment in the workspace"
   ]
  },
  {
   "cell_type": "code",
   "execution_count": 10,
   "metadata": {},
   "outputs": [
    {
     "data": {
      "text/plain": [
       "{\n",
       "    \"assetId\": \"azureml://locations/centralus/workspaces/846fb7c3-a2cd-452c-b533-9016fb6f3885/environments/reco-env/versions/1\",\n",
       "    \"databricks\": {\n",
       "        \"eggLibraries\": [],\n",
       "        \"jarLibraries\": [],\n",
       "        \"mavenLibraries\": [],\n",
       "        \"pypiLibraries\": [],\n",
       "        \"rcranLibraries\": []\n",
       "    },\n",
       "    \"docker\": {\n",
       "        \"arguments\": [],\n",
       "        \"baseDockerfile\": null,\n",
       "        \"baseImage\": \"mcr.microsoft.com/azureml/openmpi4.1.0-ubuntu20.04:20221101.v1\",\n",
       "        \"baseImageRegistry\": {\n",
       "            \"address\": null,\n",
       "            \"password\": null,\n",
       "            \"registryIdentity\": null,\n",
       "            \"username\": null\n",
       "        },\n",
       "        \"buildContext\": null,\n",
       "        \"enabled\": false,\n",
       "        \"platform\": {\n",
       "            \"architecture\": \"amd64\",\n",
       "            \"os\": \"Linux\"\n",
       "        },\n",
       "        \"sharedVolumes\": true,\n",
       "        \"shmSize\": null\n",
       "    },\n",
       "    \"environmentVariables\": {\n",
       "        \"EXAMPLE_ENV_VAR\": \"EXAMPLE_VALUE\"\n",
       "    },\n",
       "    \"inferencingStackVersion\": null,\n",
       "    \"name\": \"reco-env\",\n",
       "    \"python\": {\n",
       "        \"baseCondaEnvironment\": null,\n",
       "        \"condaDependencies\": {\n",
       "            \"channels\": [\n",
       "                \"anaconda\",\n",
       "                \"conda-forge\"\n",
       "            ],\n",
       "            \"dependencies\": [\n",
       "                \"python=3.8.13\",\n",
       "                {\n",
       "                    \"pip\": [\n",
       "                        \"azureml-defaults~=1.48.0\"\n",
       "                    ]\n",
       "                },\n",
       "                \"scikit-learn\",\n",
       "                \"pandas\"\n",
       "            ],\n",
       "            \"name\": \"project_environment\"\n",
       "        },\n",
       "        \"condaDependenciesFile\": null,\n",
       "        \"interpreterPath\": \"python\",\n",
       "        \"userManagedDependencies\": false\n",
       "    },\n",
       "    \"r\": null,\n",
       "    \"spark\": {\n",
       "        \"packages\": [],\n",
       "        \"precachePackages\": true,\n",
       "        \"repositories\": []\n",
       "    },\n",
       "    \"version\": \"1\"\n",
       "}"
      ]
     },
     "execution_count": 10,
     "metadata": {},
     "output_type": "execute_result"
    }
   ],
   "source": [
    "# Register the environment\n",
    "wine_env.register(workspace=ws)"
   ]
  },
  {
   "cell_type": "markdown",
   "metadata": {},
   "source": [
    "# Create the Estimator"
   ]
  },
  {
   "cell_type": "code",
   "execution_count": 11,
   "metadata": {},
   "outputs": [
    {
     "name": "stdout",
     "output_type": "stream",
     "text": [
      "Defaulting to user installation because normal site-packages is not writeable\n",
      "Requirement already satisfied: azureml-train in c:\\users\\ambar\\appdata\\roaming\\python\\python39\\site-packages (1.48.0)\n",
      "Requirement already satisfied: azureml-train-core~=1.48.0 in c:\\users\\ambar\\appdata\\roaming\\python\\python39\\site-packages (from azureml-train) (1.48.0)\n",
      "Requirement already satisfied: azureml-train-restclients-hyperdrive~=1.48.0 in c:\\users\\ambar\\appdata\\roaming\\python\\python39\\site-packages (from azureml-train-core~=1.48.0->azureml-train) (1.48.0)\n",
      "Requirement already satisfied: azureml-telemetry~=1.48.0 in c:\\users\\ambar\\appdata\\roaming\\python\\python39\\site-packages (from azureml-train-core~=1.48.0->azureml-train) (1.48.0)\n",
      "Requirement already satisfied: azureml-core~=1.48.0 in c:\\users\\ambar\\appdata\\roaming\\python\\python39\\site-packages (from azureml-train-core~=1.48.0->azureml-train) (1.48.0)\n",
      "Requirement already satisfied: requests[socks]<3.0.0,>=2.19.1 in c:\\applications\\anaconda\\lib\\site-packages (from azureml-core~=1.48.0->azureml-train-core~=1.48.0->azureml-train) (2.28.1)\n",
      "Requirement already satisfied: azure-graphrbac<1.0.0,>=0.40.0 in c:\\users\\ambar\\appdata\\roaming\\python\\python39\\site-packages (from azureml-core~=1.48.0->azureml-train-core~=1.48.0->azureml-train) (0.61.1)\n",
      "Requirement already satisfied: pathspec<1.0.0 in c:\\applications\\anaconda\\lib\\site-packages (from azureml-core~=1.48.0->azureml-train-core~=1.48.0->azureml-train) (0.9.0)\n",
      "Requirement already satisfied: humanfriendly<11.0,>=4.7 in c:\\users\\ambar\\appdata\\roaming\\python\\python39\\site-packages (from azureml-core~=1.48.0->azureml-train-core~=1.48.0->azureml-train) (10.0)\n",
      "Requirement already satisfied: pyopenssl<23.0.0 in c:\\applications\\anaconda\\lib\\site-packages (from azureml-core~=1.48.0->azureml-train-core~=1.48.0->azureml-train) (22.0.0)\n",
      "Requirement already satisfied: SecretStorage<4.0.0 in c:\\users\\ambar\\appdata\\roaming\\python\\python39\\site-packages (from azureml-core~=1.48.0->azureml-train-core~=1.48.0->azureml-train) (3.3.3)\n",
      "Requirement already satisfied: azure-mgmt-resource<22.0.0,>=15.0.0 in c:\\users\\ambar\\appdata\\roaming\\python\\python39\\site-packages (from azureml-core~=1.48.0->azureml-train-core~=1.48.0->azureml-train) (21.2.1)\n",
      "Requirement already satisfied: urllib3<2.0.0,>=1.23 in c:\\applications\\anaconda\\lib\\site-packages (from azureml-core~=1.48.0->azureml-train-core~=1.48.0->azureml-train) (1.26.11)\n",
      "Requirement already satisfied: docker<7.0.0 in c:\\users\\ambar\\appdata\\roaming\\python\\python39\\site-packages (from azureml-core~=1.48.0->azureml-train-core~=1.48.0->azureml-train) (6.0.1)\n",
      "Requirement already satisfied: msrest<=0.7.1,>=0.5.1 in c:\\users\\ambar\\appdata\\roaming\\python\\python39\\site-packages (from azureml-core~=1.48.0->azureml-train-core~=1.48.0->azureml-train) (0.7.1)\n",
      "Requirement already satisfied: ndg-httpsclient<=0.5.1 in c:\\users\\ambar\\appdata\\roaming\\python\\python39\\site-packages (from azureml-core~=1.48.0->azureml-train-core~=1.48.0->azureml-train) (0.5.1)\n",
      "Requirement already satisfied: azure-common<2.0.0,>=1.1.12 in c:\\users\\ambar\\appdata\\roaming\\python\\python39\\site-packages (from azureml-core~=1.48.0->azureml-train-core~=1.48.0->azureml-train) (1.1.28)\n",
      "Requirement already satisfied: azure-mgmt-containerregistry<11,>=8.2.0 in c:\\users\\ambar\\appdata\\roaming\\python\\python39\\site-packages (from azureml-core~=1.48.0->azureml-train-core~=1.48.0->azureml-train) (10.0.0)\n",
      "Requirement already satisfied: knack~=0.10.0 in c:\\users\\ambar\\appdata\\roaming\\python\\python39\\site-packages (from azureml-core~=1.48.0->azureml-train-core~=1.48.0->azureml-train) (0.10.1)\n",
      "Requirement already satisfied: pkginfo in c:\\applications\\anaconda\\lib\\site-packages (from azureml-core~=1.48.0->azureml-train-core~=1.48.0->azureml-train) (1.8.2)\n",
      "Requirement already satisfied: azure-mgmt-storage<21.0.0,>=16.0.0 in c:\\users\\ambar\\appdata\\roaming\\python\\python39\\site-packages (from azureml-core~=1.48.0->azureml-train-core~=1.48.0->azureml-train) (20.1.0)\n",
      "Requirement already satisfied: cryptography!=1.9,!=2.0.*,!=2.1.*,!=2.2.*,<41 in c:\\applications\\anaconda\\lib\\site-packages (from azureml-core~=1.48.0->azureml-train-core~=1.48.0->azureml-train) (37.0.1)\n",
      "Requirement already satisfied: azure-mgmt-keyvault<11.0.0,>=0.40.0 in c:\\users\\ambar\\appdata\\roaming\\python\\python39\\site-packages (from azureml-core~=1.48.0->azureml-train-core~=1.48.0->azureml-train) (10.1.0)\n",
      "Requirement already satisfied: backports.tempfile in c:\\applications\\anaconda\\lib\\site-packages (from azureml-core~=1.48.0->azureml-train-core~=1.48.0->azureml-train) (1.0)\n",
      "Requirement already satisfied: paramiko<3.0.0,>=2.0.8 in c:\\applications\\anaconda\\lib\\site-packages (from azureml-core~=1.48.0->azureml-train-core~=1.48.0->azureml-train) (2.8.1)\n",
      "Requirement already satisfied: msrestazure<=0.6.4,>=0.4.33 in c:\\users\\ambar\\appdata\\roaming\\python\\python39\\site-packages (from azureml-core~=1.48.0->azureml-train-core~=1.48.0->azureml-train) (0.6.4)\n",
      "Requirement already satisfied: contextlib2<22.0.0 in c:\\users\\ambar\\appdata\\roaming\\python\\python39\\site-packages (from azureml-core~=1.48.0->azureml-train-core~=1.48.0->azureml-train) (21.6.0)\n",
      "Requirement already satisfied: argcomplete<3 in c:\\users\\ambar\\appdata\\roaming\\python\\python39\\site-packages (from azureml-core~=1.48.0->azureml-train-core~=1.48.0->azureml-train) (2.0.0)\n",
      "Requirement already satisfied: python-dateutil<3.0.0,>=2.7.3 in c:\\applications\\anaconda\\lib\\site-packages (from azureml-core~=1.48.0->azureml-train-core~=1.48.0->azureml-train) (2.8.2)\n",
      "Requirement already satisfied: PyJWT<3.0.0 in c:\\applications\\anaconda\\lib\\site-packages (from azureml-core~=1.48.0->azureml-train-core~=1.48.0->azureml-train) (2.4.0)\n",
      "Requirement already satisfied: azure-mgmt-authorization<4,>=0.40.0 in c:\\users\\ambar\\appdata\\roaming\\python\\python39\\site-packages (from azureml-core~=1.48.0->azureml-train-core~=1.48.0->azureml-train) (3.0.0)\n",
      "Requirement already satisfied: msal<2.0.0,>=1.15.0 in c:\\users\\ambar\\appdata\\roaming\\python\\python39\\site-packages (from azureml-core~=1.48.0->azureml-train-core~=1.48.0->azureml-train) (1.20.0)\n",
      "Requirement already satisfied: jsonpickle<3.0.0 in c:\\users\\ambar\\appdata\\roaming\\python\\python39\\site-packages (from azureml-core~=1.48.0->azureml-train-core~=1.48.0->azureml-train) (2.2.0)\n",
      "Requirement already satisfied: msal-extensions<=1.0.0,>=0.3.0 in c:\\users\\ambar\\appdata\\roaming\\python\\python39\\site-packages (from azureml-core~=1.48.0->azureml-train-core~=1.48.0->azureml-train) (1.0.0)\n",
      "Requirement already satisfied: adal<=1.2.7,>=1.2.0 in c:\\users\\ambar\\appdata\\roaming\\python\\python39\\site-packages (from azureml-core~=1.48.0->azureml-train-core~=1.48.0->azureml-train) (1.2.7)\n",
      "Requirement already satisfied: packaging<22.0,>=20.0 in c:\\applications\\anaconda\\lib\\site-packages (from azureml-core~=1.48.0->azureml-train-core~=1.48.0->azureml-train) (21.3)\n",
      "Requirement already satisfied: azure-core<2.0.0 in c:\\users\\ambar\\appdata\\roaming\\python\\python39\\site-packages (from azureml-core~=1.48.0->azureml-train-core~=1.48.0->azureml-train) (1.26.1)\n",
      "Requirement already satisfied: jmespath<2.0.0 in c:\\applications\\anaconda\\lib\\site-packages (from azureml-core~=1.48.0->azureml-train-core~=1.48.0->azureml-train) (0.10.0)\n",
      "Requirement already satisfied: pytz in c:\\applications\\anaconda\\lib\\site-packages (from azureml-core~=1.48.0->azureml-train-core~=1.48.0->azureml-train) (2022.1)\n",
      "Requirement already satisfied: applicationinsights in c:\\users\\ambar\\appdata\\roaming\\python\\python39\\site-packages (from azureml-telemetry~=1.48.0->azureml-train-core~=1.48.0->azureml-train) (0.11.10)\n",
      "Requirement already satisfied: six>=1.11.0 in c:\\applications\\anaconda\\lib\\site-packages (from azure-core<2.0.0->azureml-core~=1.48.0->azureml-train-core~=1.48.0->azureml-train) (1.16.0)\n",
      "Requirement already satisfied: typing-extensions>=4.0.1 in c:\\applications\\anaconda\\lib\\site-packages (from azure-core<2.0.0->azureml-core~=1.48.0->azureml-train-core~=1.48.0->azureml-train) (4.3.0)\n",
      "Requirement already satisfied: azure-mgmt-core<2.0.0,>=1.3.2 in c:\\users\\ambar\\appdata\\roaming\\python\\python39\\site-packages (from azure-mgmt-authorization<4,>=0.40.0->azureml-core~=1.48.0->azureml-train-core~=1.48.0->azureml-train) (1.3.2)\n",
      "Requirement already satisfied: cffi>=1.12 in c:\\applications\\anaconda\\lib\\site-packages (from cryptography!=1.9,!=2.0.*,!=2.1.*,!=2.2.*,<41->azureml-core~=1.48.0->azureml-train-core~=1.48.0->azureml-train) (1.15.1)\n",
      "Requirement already satisfied: pywin32>=304 in c:\\users\\ambar\\appdata\\roaming\\python\\python39\\site-packages (from docker<7.0.0->azureml-core~=1.48.0->azureml-train-core~=1.48.0->azureml-train) (305)\n",
      "Requirement already satisfied: websocket-client>=0.32.0 in c:\\applications\\anaconda\\lib\\site-packages (from docker<7.0.0->azureml-core~=1.48.0->azureml-train-core~=1.48.0->azureml-train) (0.58.0)\n",
      "Requirement already satisfied: pyreadline3 in c:\\users\\ambar\\appdata\\roaming\\python\\python39\\site-packages (from humanfriendly<11.0,>=4.7->azureml-core~=1.48.0->azureml-train-core~=1.48.0->azureml-train) (3.4.1)\n",
      "Requirement already satisfied: pyyaml in c:\\applications\\anaconda\\lib\\site-packages (from knack~=0.10.0->azureml-core~=1.48.0->azureml-train-core~=1.48.0->azureml-train) (6.0)\n",
      "Requirement already satisfied: tabulate in c:\\applications\\anaconda\\lib\\site-packages (from knack~=0.10.0->azureml-core~=1.48.0->azureml-train-core~=1.48.0->azureml-train) (0.8.10)\n",
      "Requirement already satisfied: pygments in c:\\applications\\anaconda\\lib\\site-packages (from knack~=0.10.0->azureml-core~=1.48.0->azureml-train-core~=1.48.0->azureml-train) (2.11.2)\n",
      "Requirement already satisfied: portalocker<3,>=1.6 in c:\\users\\ambar\\appdata\\roaming\\python\\python39\\site-packages (from msal-extensions<=1.0.0,>=0.3.0->azureml-core~=1.48.0->azureml-train-core~=1.48.0->azureml-train) (2.6.0)\n",
      "Requirement already satisfied: requests-oauthlib>=0.5.0 in c:\\users\\ambar\\appdata\\roaming\\python\\python39\\site-packages (from msrest<=0.7.1,>=0.5.1->azureml-core~=1.48.0->azureml-train-core~=1.48.0->azureml-train) (1.3.1)\n",
      "Requirement already satisfied: certifi>=2017.4.17 in c:\\applications\\anaconda\\lib\\site-packages (from msrest<=0.7.1,>=0.5.1->azureml-core~=1.48.0->azureml-train-core~=1.48.0->azureml-train) (2022.9.14)\n",
      "Requirement already satisfied: isodate>=0.6.0 in c:\\users\\ambar\\appdata\\roaming\\python\\python39\\site-packages (from msrest<=0.7.1,>=0.5.1->azureml-core~=1.48.0->azureml-train-core~=1.48.0->azureml-train) (0.6.1)\n",
      "Requirement already satisfied: pyasn1>=0.1.1 in c:\\applications\\anaconda\\lib\\site-packages (from ndg-httpsclient<=0.5.1->azureml-core~=1.48.0->azureml-train-core~=1.48.0->azureml-train) (0.4.8)\n",
      "Requirement already satisfied: pyparsing!=3.0.5,>=2.0.2 in c:\\applications\\anaconda\\lib\\site-packages (from packaging<22.0,>=20.0->azureml-core~=1.48.0->azureml-train-core~=1.48.0->azureml-train) (3.0.9)\n",
      "Requirement already satisfied: pynacl>=1.0.1 in c:\\applications\\anaconda\\lib\\site-packages (from paramiko<3.0.0,>=2.0.8->azureml-core~=1.48.0->azureml-train-core~=1.48.0->azureml-train) (1.5.0)\n",
      "Requirement already satisfied: bcrypt>=3.1.3 in c:\\applications\\anaconda\\lib\\site-packages (from paramiko<3.0.0,>=2.0.8->azureml-core~=1.48.0->azureml-train-core~=1.48.0->azureml-train) (3.2.0)\n",
      "Requirement already satisfied: idna<4,>=2.5 in c:\\applications\\anaconda\\lib\\site-packages (from requests[socks]<3.0.0,>=2.19.1->azureml-core~=1.48.0->azureml-train-core~=1.48.0->azureml-train) (3.3)\n",
      "Requirement already satisfied: charset-normalizer<3,>=2 in c:\\applications\\anaconda\\lib\\site-packages (from requests[socks]<3.0.0,>=2.19.1->azureml-core~=1.48.0->azureml-train-core~=1.48.0->azureml-train) (2.0.4)\n",
      "Requirement already satisfied: PySocks!=1.5.7,>=1.5.6 in c:\\applications\\anaconda\\lib\\site-packages (from requests[socks]<3.0.0,>=2.19.1->azureml-core~=1.48.0->azureml-train-core~=1.48.0->azureml-train) (1.7.1)\n",
      "Requirement already satisfied: jeepney>=0.6 in c:\\users\\ambar\\appdata\\roaming\\python\\python39\\site-packages (from SecretStorage<4.0.0->azureml-core~=1.48.0->azureml-train-core~=1.48.0->azureml-train) (0.8.0)\n",
      "Requirement already satisfied: backports.weakref in c:\\applications\\anaconda\\lib\\site-packages (from backports.tempfile->azureml-core~=1.48.0->azureml-train-core~=1.48.0->azureml-train) (1.0.post1)\n",
      "Requirement already satisfied: pycparser in c:\\applications\\anaconda\\lib\\site-packages (from cffi>=1.12->cryptography!=1.9,!=2.0.*,!=2.1.*,!=2.2.*,<41->azureml-core~=1.48.0->azureml-train-core~=1.48.0->azureml-train) (2.21)\n",
      "Requirement already satisfied: oauthlib>=3.0.0 in c:\\users\\ambar\\appdata\\roaming\\python\\python39\\site-packages (from requests-oauthlib>=0.5.0->msrest<=0.7.1,>=0.5.1->azureml-core~=1.48.0->azureml-train-core~=1.48.0->azureml-train) (3.2.2)\n"
     ]
    }
   ],
   "source": [
    "!pip install azureml-train"
   ]
  },
  {
   "cell_type": "code",
   "execution_count": 12,
   "metadata": {},
   "outputs": [
    {
     "name": "stderr",
     "output_type": "stream",
     "text": [
      "\"datastore.as_mount\" is deprecated after version 1.0.69. Please use \"file_dataset.as_mount\" instead. See Dataset API change notice at https://aka.ms/dataset-deprecation.\n",
      "'Estimator' is deprecated. Please use 'ScriptRunConfig' from 'azureml.core.script_run_config' with your own defined environment or an Azure ML curated environment.\n"
     ]
    }
   ],
   "source": [
    "from azureml.train.estimator import Estimator\n",
    "\n",
    "script_params = {\n",
    "    '--data-folder': ds.as_mount()\n",
    "}\n",
    "\n",
    "registered_env = Environment.get(ws, 'reco-env')\n",
    "\n",
    "# Create an estimator\n",
    "estimator = Estimator(source_directory=folder_training_script,\n",
    "                      script_params=script_params,\n",
    "                      compute_target = compute_target, # Run the experiment on the remote compute target\n",
    "                      environment_definition = registered_env,\n",
    "                      entry_script='train.py')"
   ]
  },
  {
   "cell_type": "markdown",
   "metadata": {},
   "source": [
    "# Create the Experiment"
   ]
  },
  {
   "cell_type": "code",
   "execution_count": 13,
   "metadata": {},
   "outputs": [
    {
     "name": "stdout",
     "output_type": "stream",
     "text": [
      "Experiment created\n"
     ]
    }
   ],
   "source": [
    "from azureml.core import Experiment\n",
    "\n",
    "#Create an experiment\n",
    "experiment = Experiment(workspace = ws, name = \"reco_expt\")\n",
    "\n",
    "print('Experiment created')"
   ]
  },
  {
   "cell_type": "markdown",
   "metadata": {},
   "source": [
    "# Submit the Experiment with the Estimator information"
   ]
  },
  {
   "cell_type": "code",
   "execution_count": 14,
   "metadata": {},
   "outputs": [
    {
     "name": "stderr",
     "output_type": "stream",
     "text": [
      "WARNING:root:If 'script' has been provided here and a script file name has been specified in 'run_config', 'script' provided in ScriptRunConfig initialization will take precedence.\n",
      "WARNING:root:If 'arguments' has been provided here and arguments have been specified in 'run_config', 'arguments' provided in ScriptRunConfig initialization will take precedence.\n"
     ]
    },
    {
     "data": {
      "text/html": [
       "<table style=\"width:100%\"><tr><th>Experiment</th><th>Id</th><th>Type</th><th>Status</th><th>Details Page</th><th>Docs Page</th></tr><tr><td>reco_expt</td><td>reco_expt_1673691404_36917df8</td><td>azureml.scriptrun</td><td>Preparing</td><td><a href=\"https://ml.azure.com/runs/reco_expt_1673691404_36917df8?wsid=/subscriptions/6ea869be-bab3-4204-94c3-1fc677f7d2de/resourcegroups/recogroup/workspaces/azureml_workspace&amp;tid=0f942ca0-ebef-4f26-80f8-f501d599ba90\" target=\"_blank\" rel=\"noopener\">Link to Azure Machine Learning studio</a></td><td><a href=\"https://docs.microsoft.com/en-us/python/api/azureml-core/azureml.core.script_run.ScriptRun?view=azure-ml-py\" target=\"_blank\" rel=\"noopener\">Link to Documentation</a></td></tr></table>"
      ],
      "text/plain": [
       "Run(Experiment: reco_expt,\n",
       "Id: reco_expt_1673691404_36917df8,\n",
       "Type: azureml.scriptrun,\n",
       "Status: Preparing)"
      ]
     },
     "execution_count": 14,
     "metadata": {},
     "output_type": "execute_result"
    }
   ],
   "source": [
    "run = experiment.submit(config=estimator)\n",
    "run"
   ]
  },
  {
   "cell_type": "code",
   "execution_count": 25,
   "metadata": {},
   "outputs": [
    {
     "name": "stdout",
     "output_type": "stream",
     "text": [
      "{'MAX_DF': 0.95, 'MIN_DF': 2.0, 'N_FEATURES': 2000.0}\n"
     ]
    }
   ],
   "source": [
    "#get the result\n",
    "print(run.get_metrics())"
   ]
  },
  {
   "cell_type": "markdown",
   "metadata": {},
   "source": [
    "# Register the model"
   ]
  },
  {
   "cell_type": "code",
   "execution_count": 15,
   "metadata": {},
   "outputs": [
    {
     "name": "stdout",
     "output_type": "stream",
     "text": [
      "tfidf_vectorizer_model\tq_tfidf_model\n"
     ]
    }
   ],
   "source": [
    "tfidf_vectorizer = run.register_model(model_name='tfidf_vectorizer_model',\n",
    "                           model_path='outputs/tfidf_vectorizer.pkl',\n",
    "                           tags = {'area': \"tfidf_vectorizer\", 'type': \"sklearn\"},\n",
    "                           description = \"tfidf_vectorizer\")\n",
    "\n",
    "q_tfidf = run.register_model(model_name='q_tfidf_model',\n",
    "                           model_path='outputs/q_tfidf.pkl',\n",
    "                           tags = {'area': \"q_tfidf\", 'type': \"sklearn\"},\n",
    "                           description = \"q_tfidf\")\n",
    "\n",
    "print(tfidf_vectorizer.name, q_tfidf.name, sep='\\t')"
   ]
  },
  {
   "cell_type": "code",
   "execution_count": null,
   "metadata": {},
   "outputs": [],
   "source": []
  }
 ],
 "metadata": {
  "kernelspec": {
   "display_name": "base",
   "language": "python",
   "name": "python3"
  },
  "language_info": {
   "codemirror_mode": {
    "name": "ipython",
    "version": 3
   },
   "file_extension": ".py",
   "mimetype": "text/x-python",
   "name": "python",
   "nbconvert_exporter": "python",
   "pygments_lexer": "ipython3",
   "version": "3.9.13 (main, Aug 25 2022, 23:51:50) [MSC v.1916 64 bit (AMD64)]"
  },
  "vscode": {
   "interpreter": {
    "hash": "ce7721647274386fe13b7f2220e2cccc8d7a3ea400a265b5456a0f9751e59dcb"
   }
  }
 },
 "nbformat": 4,
 "nbformat_minor": 4
}
